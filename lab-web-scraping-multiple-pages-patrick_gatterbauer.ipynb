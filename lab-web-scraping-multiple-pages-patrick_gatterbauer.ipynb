{
 "cells": [
  {
   "cell_type": "code",
   "execution_count": 79,
   "id": "d08315e7",
   "metadata": {},
   "outputs": [],
   "source": [
    "from bs4 import BeautifulSoup\n",
    "import pandas as pd\n",
    "import requests\n",
    "import unicodedata"
   ]
  },
  {
   "cell_type": "markdown",
   "id": "ec254e6f",
   "metadata": {},
   "source": [
    "## Create a Python list with the top ten FBI's Most Wanted names: url = 'https://www.fbi.gov/wanted/topten"
   ]
  },
  {
   "cell_type": "code",
   "execution_count": 55,
   "id": "6127c0a4",
   "metadata": {},
   "outputs": [
    {
     "data": {
      "text/plain": [
       "200"
      ]
     },
     "execution_count": 55,
     "metadata": {},
     "output_type": "execute_result"
    }
   ],
   "source": [
    "r1 = requests.get('https://www.fbi.gov/wanted/topten')\n",
    "r1.status_code"
   ]
  },
  {
   "cell_type": "code",
   "execution_count": 56,
   "id": "bbd61991",
   "metadata": {},
   "outputs": [],
   "source": [
    "# using the BeautifulSoup module\n",
    "soup1 = BeautifulSoup(r1.text, 'html.parser')"
   ]
  },
  {
   "cell_type": "code",
   "execution_count": 64,
   "id": "18d7f33e",
   "metadata": {},
   "outputs": [
    {
     "name": "stdout",
     "output_type": "stream",
     "text": [
      "here are the top most wanted persons on the fbi list:  ['Rafael Caro-Quintero', 'Eugene Palmer', 'Bhadreshkumar Chetanbhai Patel', 'Alejandro Rosales Castillo', 'Arnoldo Jimenez', 'Jason Derek Brown', 'Alexis Flores', 'Jose Rodolfo Villarreal-Hernandez', 'Yulan Adonay Archaga Carias', 'Octaviano Juarez-Corro']\n"
     ]
    }
   ],
   "source": [
    "# displaying the title\n",
    "names = []\n",
    "\n",
    "#add name to the empty list names\n",
    "for i in soup1.find_all('h3', {'class' : 'title'}):\n",
    "    names.append(i.get_text(strip=True))\n",
    "    \n",
    "#capitalze the names\n",
    "names_cap = [name.title() for name in names]\n",
    "\n",
    "print('here are the top most wanted persons on the fbi list: ', names_cap)"
   ]
  },
  {
   "cell_type": "markdown",
   "id": "2c67b6bf",
   "metadata": {},
   "source": [
    "## List all language names and number of related articles in the order they appear in wikipedia.org: url = 'https://www.wikipedia.org/'"
   ]
  },
  {
   "cell_type": "code",
   "execution_count": 74,
   "id": "aa8275d4",
   "metadata": {},
   "outputs": [
    {
     "data": {
      "text/plain": [
       "200"
      ]
     },
     "execution_count": 74,
     "metadata": {},
     "output_type": "execute_result"
    }
   ],
   "source": [
    "r2 = requests.get('https://www.wikipedia.org/')\n",
    "r2.status_code"
   ]
  },
  {
   "cell_type": "code",
   "execution_count": 75,
   "id": "e2c66cc8",
   "metadata": {},
   "outputs": [],
   "source": [
    "# using the BeautifulSoup module\n",
    "soup2 = BeautifulSoup(r2.text, 'html.parser')"
   ]
  },
  {
   "cell_type": "code",
   "execution_count": 58,
   "id": "ac32be49",
   "metadata": {},
   "outputs": [
    {
     "data": {
      "text/plain": [
       "[]"
      ]
     },
     "execution_count": 58,
     "metadata": {},
     "output_type": "execute_result"
    }
   ],
   "source": [
    "language_name = []\n",
    "\n",
    "for i in soup.find_all('a', {'class' : 'link-box'}):\n",
    "    language_name.append(i.get_text())\n",
    "    \n",
    "language_name"
   ]
  },
  {
   "cell_type": "code",
   "execution_count": 81,
   "id": "8d1bbf83",
   "metadata": {},
   "outputs": [
    {
     "name": "stdout",
     "output_type": "stream",
     "text": [
      "\n",
      "English\n",
      "6 458 000+ articles\n",
      "\n",
      "\n",
      "æ¥æ¬èª\n",
      "1 314 000+ è¨äº\n",
      "\n",
      "\n",
      "Ð ÑÑÑÐºÐ¸Ð¹\n",
      "1 798 000+ ÑÑÐ°ÑÐµÐ¹\n",
      "\n",
      "\n",
      "EspaÃ±ol\n",
      "1 755 000+ artÃ­culos\n",
      "\n",
      "\n",
      "Deutsch\n",
      "2 667 000+ Artikel\n",
      "\n",
      "\n",
      "FranÃ§ais\n",
      "2 400 000+ articles\n",
      "\n",
      "\n",
      "Italiano\n",
      "1 742 000+ voci\n",
      "\n",
      "\n",
      "ä¸­æ\n",
      "1 256 000+ æ¡ç® / æ¢ç®\n",
      "\n",
      "\n",
      "PortuguÃªs\n",
      "1 085 000+ artigos\n",
      "\n",
      "\n",
      "Ø§ÙØ¹Ø±Ø¨ÙØ©\n",
      "1 159 000+ Ù",
      "ÙØ§ÙØ©\n",
      "\n"
     ]
    }
   ],
   "source": [
    "languages = soup2.find_all('a', {'class' : 'link-box'})\n",
    "\n",
    "for i in languages:\n",
    "    print(i.get_text())"
   ]
  },
  {
   "cell_type": "code",
   "execution_count": null,
   "id": "74c34bf0",
   "metadata": {},
   "outputs": [],
   "source": []
  }
 ],
 "metadata": {
  "kernelspec": {
   "display_name": "Python 3 (ipykernel)",
   "language": "python",
   "name": "python3"
  },
  "language_info": {
   "codemirror_mode": {
    "name": "ipython",
    "version": 3
   },
   "file_extension": ".py",
   "mimetype": "text/x-python",
   "name": "python",
   "nbconvert_exporter": "python",
   "pygments_lexer": "ipython3",
   "version": "3.9.7"
  }
 },
 "nbformat": 4,
 "nbformat_minor": 5
}
